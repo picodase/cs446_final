{
  "nbformat": 4,
  "nbformat_minor": 0,
  "metadata": {
    "colab": {
      "name": "future_directions.ipynb",
      "provenance": []
    },
    "kernelspec": {
      "name": "python3",
      "display_name": "Python 3"
    }
  },
  "cells": [
    {
      "cell_type": "markdown",
      "metadata": {
        "id": "l5RHcoQvUisu"
      },
      "source": [
        "## FUTURE WORK:\n",
        "- Analyze each network and extract interesting residues / interactions:\n",
        "  - Top 5 highest-degree residue(s) and their \"type\", and their residue name.\n",
        "  - Residues involved in a particular set of interactions (ID a motif if there is one of interest??? design a motif? check what a particular set of interactions might mean relative to the 3D structure)\n",
        "- Compare to a set of several random protein structures to debias from, say, secondary-structure elements?\n",
        "  - A few \"types\", i.e. \n",
        "    - Mostly β-barrel\n",
        "    - Mostly α-helix\n",
        "    - Unstructured\n",
        "    - Etc.\n",
        "- **Randomize the networks** and check the values of the above variables! Why would they be different or stay the same?\n",
        "- Analyze this \"mega\" network and compare to evolutionary relationship between them"
      ]
    },
    {
      "cell_type": "code",
      "metadata": {
        "id": "wFsrWUIRUIye"
      },
      "source": [
        ""
      ],
      "execution_count": null,
      "outputs": []
    },
    {
      "cell_type": "code",
      "metadata": {
        "id": "pjhpYmOhbHfC"
      },
      "source": [
        "# load in other sifs\n",
        "!wget https://github.com/picodase/cs446_final/blob/main/3fli.sif\n",
        "df_fxr = pd.read_csv(\"3fli.sif\", sep='\\t', names=[\"resA\", \"interacType\",\"resB\"])\n",
        "\n",
        "!wget https://github.com/picodase/cs446_final/blob/main/1FAW.sif\n",
        "df_FAW = pd.read_csv(\"1FAW.sif\", sep='\\t', names=[\"resA\", \"interacType\",\"resB\"])\n",
        "\n",
        "!wget https://github.com/picodase/cs446_final/blob/main/1FSX.sif\n",
        "df_FSX = pd.read_csv(\"1FSX.sif\", sep='\\t', names=[\"resA\", \"interacType\",\"resB\"])"
      ],
      "execution_count": null,
      "outputs": []
    },
    {
      "cell_type": "code",
      "metadata": {
        "id": "XSnSpkW12dk9"
      },
      "source": [
        "x_path = \".\"\n",
        "\n",
        "x_rin_dfs = []\n",
        "x_fileNames = []\n",
        "for file in os.scandir(x_path):\n",
        "    if (file.path.endswith(\".sif\") and file.is_file()):\n",
        "      print(file.name.replace(\".sif\",\"\"))\n",
        "      x_fileNames.append(file.name.split(\".\")[0])\n",
        "      x_rin_dfs.append(pd.read_csv(file, sep='\\t', names=[\"resA\", \"interacType\",\"resB\"]))"
      ],
      "execution_count": null,
      "outputs": []
    },
    {
      "cell_type": "code",
      "metadata": {
        "id": "BBxMS0lL2JHz"
      },
      "source": [
        "# create lists to hold each set of values for the specified interaction types\n",
        "x_interac_cts = []\n",
        "x_edgelists = []\n",
        "x_graphs = []\n",
        "x_thr_motifs = []\n",
        "x_four_motifs = []\n",
        "\n",
        "for df in x_rin_dfs:\n",
        "  # interaction counts\n",
        "  x_interac_cts.append(df.interacType.value_counts())\n",
        "\n",
        "  # interaction types\n",
        "  i = {}\n",
        "  #i[\"tot\"] = df[['resA','resB']].values.tolist()\n",
        "  i[\"hbd\"] = df[df.interacType.isin(hbond)][['resA','resB']].values.tolist()\n",
        "  i[\"vdw\"] = df[df.interacType.isin(vdw)][['resA','resB']].values.tolist()\n",
        "  i[\"lig\"] = df[df.interacType.isin(lig)][['resA','resB']].values.tolist()\n",
        "  i[\"ππ\"] = df[df.interacType.isin(ππ)][['resA','resB']].values.tolist()\n",
        "  x_edgelists.append(i)\n",
        "\n",
        "  # graphs\n",
        "  g = {}\n",
        "  #g[\"tot\"] = igraph.Graph.TupleList(i[\"tot\"])\n",
        "  g[\"hbd\"] = igraph.Graph.TupleList(i[\"hbd\"], directed=True)\n",
        "  g[\"vdw\"] = igraph.Graph.TupleList(i[\"vdw\"])\n",
        "  g[\"lig\"] = igraph.Graph.TupleList(i[\"lig\"])\n",
        "  g[\"ππ\"] = igraph.Graph.TupleList(i[\"ππ\"])\n",
        "  x_graphs.append(g)\n",
        "\n",
        "  # calculate motifs for each graph\n",
        "\n",
        "  # three-motifs\n",
        "  t_m = {}\n",
        "  #t_m[\"tot\"] = g[\"tot\"].motifs_randesu()\n",
        "  t_m[\"hbd\"] = g[\"hbd\"].motifs_randesu()\n",
        "  t_m[\"vdw\"] = g[\"vdw\"].motifs_randesu()\n",
        "  t_m[\"lig\"] = g[\"lig\"].motifs_randesu()\n",
        "  t_m[\"ππ\"] = g[\"ππ\"].motifs_randesu()\n",
        "  x_thr_motifs.append(t_m)\n",
        "\n",
        "  # four-motifs\n",
        "  f_m = {}\n",
        "  #f_m[\"tot\"] = g[\"tot\"].motifs_randesu(size=4)\n",
        "  f_m[\"hbd\"] = g[\"hbd\"].motifs_randesu(size=4)\n",
        "  f_m[\"vdw\"] = g[\"vdw\"].motifs_randesu(size=4)\n",
        "  f_m[\"lig\"] = g[\"lig\"].motifs_randesu(size=4)\n",
        "  f_m[\"ππ\"] = g[\"ππ\"].motifs_randesu(size=4)\n",
        "  x_four_motifs.append(f_m)"
      ],
      "execution_count": null,
      "outputs": []
    },
    {
      "cell_type": "code",
      "metadata": {
        "id": "4RPU4_9a1ijq"
      },
      "source": [
        "#Cosine Correlation Matrix for interac_cts\n",
        "x_rin_interact_data = pd.DataFrame(x_interac_cts, index=fileNames).T\n",
        "\n",
        "def dfCosSim(n1: np.ndarray, n2: np.ndarray):\n",
        "  return cosine_similarity(n1.reshape(1,-1), n2.reshape(1,-1))\n",
        "\n",
        "res = x_rin_interact_data.corr(dfCosSim)\n",
        "res.style.background_gradient(cmap='coolwarm')"
      ],
      "execution_count": null,
      "outputs": []
    },
    {
      "cell_type": "code",
      "metadata": {
        "id": "EA_yatHf0_Vu"
      },
      "source": [
        "#Cosine Correlation Matrices for 3 motif\n",
        "x_four_motif_hbd = [d['hbd'] for d in x_four_motifs]\n",
        "x_four_motif_vdw = [d['vdw'] for d in x_four_motifs]\n",
        "x_four_motif_lig = [d['lig'] for d in x_four_motifs]\n",
        "x_four_motif_pipi = [d['ππ'] for d in x_four_motifs]\n",
        "\n",
        "x_rn_fourmotif_hbd_data = pd.DataFrame(x_four_motif_hbd, index=x_fileNames).T\n",
        "x_rn_fourmotif_vdw_data = pd.DataFrame(x_four_motif_vdw, index=x_fileNames).T\n",
        "x_rn_fourmotif_lig_data = pd.DataFrame(x_four_motif_lig, index=x_fileNames).T\n",
        "x_rn_fourmotif_pipi_data = pd.DataFrame(x_four_motif_pipi, index=x_fileNames).T\n",
        "\n",
        "x_rn_fourmotif_hbd_corr = x_rn_fourmotif_hbd_data.corr(dfCosSim)\n",
        "x_rn_fourmotif_vdw_corr = x_rn_fourmotif_vdw_data.corr(dfCosSim)\n",
        "x_rn_fourmotif_lig_corr = x_rn_fourmotif_lig_data.corr(dfCosSim)\n",
        "x_rn_fourmotif_pipi_corr = x_rn_fourmotif_pipi_data.corr(dfCosSim)"
      ],
      "execution_count": null,
      "outputs": []
    },
    {
      "cell_type": "markdown",
      "metadata": {
        "id": "Dt7DTOUjdvZ0"
      },
      "source": [
        "### Pairwise comparisons for all networks in a collection"
      ]
    },
    {
      "cell_type": "code",
      "metadata": {
        "id": "sI6-KlaF0QlZ"
      },
      "source": [
        "x_rn_fourmotif_hbd_corr.style.background_gradient(cmap='coolwarm',axis=None)"
      ],
      "execution_count": null,
      "outputs": []
    },
    {
      "cell_type": "code",
      "metadata": {
        "id": "z-66rm1t3tCv"
      },
      "source": [
        "x_rn_fourmotif_vdw_corr.style.background_gradient(cmap='coolwarm',axis=None)"
      ],
      "execution_count": null,
      "outputs": []
    },
    {
      "cell_type": "code",
      "metadata": {
        "id": "-Awh72wx3wvf"
      },
      "source": [
        "x_rn_fourmotif_lig_corr.style.background_gradient(cmap='coolwarm',axis=None)"
      ],
      "execution_count": null,
      "outputs": []
    },
    {
      "cell_type": "code",
      "metadata": {
        "id": "fXJ1fw6M30SG"
      },
      "source": [
        "x_rn_fourmotif_pipi_corr.style.background_gradient(cmap='coolwarm',axis=None)"
      ],
      "execution_count": null,
      "outputs": []
    },
    {
      "cell_type": "code",
      "metadata": {
        "id": "M_5dLO-h33eK"
      },
      "source": [
        ""
      ],
      "execution_count": null,
      "outputs": []
    },
    {
      "cell_type": "code",
      "metadata": {
        "id": "20D9LAdXdzjB"
      },
      "source": [
        "import itertools\n",
        "\n",
        "# h-bonding: fxr, hb1, hb2, hb3\n",
        "hbds = [fxr[\"hbd\"],graphs[0][\"hbd\"],graphs[3][\"hbd\"],graphs[6][\"hbd\"]]\n",
        "for pair in itertools.combinations(hbds, r=2):\n",
        "    print([tmCosSim(pair[0], pair[1])[0][0], qmCosSim(pair[0], pair[1])[0][0]])"
      ],
      "execution_count": null,
      "outputs": []
    },
    {
      "cell_type": "code",
      "metadata": {
        "id": "egUJ3o4hif4B"
      },
      "source": [
        "# van der Waals interactions: fxr, hb1, hb2, hb3\n",
        "\n",
        "vdws = [fxr[\"vdw\"],graphs[0][\"vdw\"],graphs[3][\"vdw\"],graphs[6][\"vdw\"]]\n",
        "for pair in itertools.combinations(vdws, r=2):\n",
        "    print([tmCosSim(pair[0], pair[1])[0][0], qmCosSim(pair[0], pair[1])[0][0]])"
      ],
      "execution_count": null,
      "outputs": []
    },
    {
      "cell_type": "code",
      "metadata": {
        "id": "W8Sqywqrirmj"
      },
      "source": [
        "# ligand: fxr, hb1, hb2, hb3\n",
        "ligs = [fxr[\"lig\"],graphs[0][\"lig\"],graphs[3][\"lig\"],graphs[6][\"lig\"]]\n",
        "for pair in itertools.combinations(ligs, r=2):\n",
        "    print([tmCosSim(pair[0], pair[1])[0][0], qmCosSim(pair[0], pair[1])[0][0]])"
      ],
      "execution_count": null,
      "outputs": []
    },
    {
      "cell_type": "code",
      "metadata": {
        "id": "bnZF8XuXi0YY"
      },
      "source": [
        "# ππ: fxr, hb1, hb2, hb3\n",
        "ππs = [fxr[\"ππ\"],graphs[0][\"ππ\"],graphs[1][\"ππ\"],graphs[2][\"ππ\"]]\n",
        "\n",
        "#for pair in itertools.combinations(ππs, r=2):\n",
        "#    print([tmCosSim(pair[0], pair[1])[0][0], qmCosSim(pair[0], pair[1])[0][0]])"
      ],
      "execution_count": null,
      "outputs": []
    },
    {
      "cell_type": "code",
      "metadata": {
        "id": "rm1H7nThf2pn"
      },
      "source": [
        "# fxr, hb1, hb2, hb3\n",
        "\n",
        "dfs = [df_fxr,rin_dfs[0],rin_dfs[1],rin_dfs[6]]\n",
        "for pair in itertools.combinations(dfs, r=2):\n",
        "    print(icCosSim(pair[0], pair[1])[0][0])"
      ],
      "execution_count": null,
      "outputs": []
    }
  ]
}