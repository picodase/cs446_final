{
  "nbformat": 4,
  "nbformat_minor": 0,
  "metadata": {
    "colab": {
      "name": "multi_ri_network.ipynb",
      "provenance": [],
      "collapsed_sections": [
        "OT98utcKcU47",
        "ZkPc7b5K0R8x",
        "Dt7DTOUjdvZ0"
      ]
    },
    "kernelspec": {
      "display_name": "Python 3",
      "name": "python3"
    }
  },
  "cells": [
    {
      "cell_type": "markdown",
      "metadata": {
        "id": "lGYk4Hr1jKoS"
      },
      "source": [
        "# CS 446 Final project | Residue interaction networks in protein structures"
      ]
    },
    {
      "cell_type": "markdown",
      "metadata": {
        "id": "sf4b1QxrjQnm"
      },
      "source": [
        "## Setup"
      ]
    },
    {
      "cell_type": "markdown",
      "metadata": {
        "id": "ARnISzVpETLS"
      },
      "source": [
        "Procure the data using a set of proteins and running them through the tool RING 2.0 (one such result is available at: http://old.protein.bio.unipd.it/ring/results/5fbf3a94d794dd1d8c5eab12)"
      ]
    },
    {
      "cell_type": "markdown",
      "metadata": {
        "id": "iemTg5pzjT_E"
      },
      "source": [
        "### Import packages"
      ]
    },
    {
      "cell_type": "code",
      "metadata": {
        "colab": {
          "base_uri": "https://localhost:8080/"
        },
        "id": "rLTg4UfSFguO",
        "outputId": "099568d2-00c3-4158-e97e-988e9dd517f7"
      },
      "source": [
        "# installs, imports\n",
        "!apt-get install libcairo2-dev libjpeg-dev libgif-dev\n",
        "!pip install pycairo\n",
        "# use pip to install python-igraph\n",
        "!pip install python-igraph\n",
        "import gzip, operator, timeit, urllib.request, collections, pandas as pd, csv, cairo, igraph # add the other packages\n",
        "import numpy as np\n",
        "import matplotlib.pyplot as plt"
      ],
      "execution_count": null,
      "outputs": [
        {
          "output_type": "stream",
          "text": [
            "Reading package lists... Done\n",
            "Building dependency tree       \n",
            "Reading state information... Done\n",
            "libjpeg-dev is already the newest version (8c-2ubuntu8).\n",
            "libjpeg-dev set to manually installed.\n",
            "The following additional packages will be installed:\n",
            "  libcairo-script-interpreter2 libpixman-1-dev libxcb-shm0-dev\n",
            "Suggested packages:\n",
            "  libcairo2-doc\n",
            "The following NEW packages will be installed:\n",
            "  libcairo-script-interpreter2 libcairo2-dev libgif-dev libpixman-1-dev\n",
            "  libxcb-shm0-dev\n",
            "0 upgraded, 5 newly installed, 0 to remove and 14 not upgraded.\n",
            "Need to get 951 kB of archives.\n",
            "After this operation, 4,084 kB of additional disk space will be used.\n",
            "Get:1 http://archive.ubuntu.com/ubuntu bionic-updates/main amd64 libcairo-script-interpreter2 amd64 1.15.10-2ubuntu0.1 [53.5 kB]\n",
            "Get:2 http://archive.ubuntu.com/ubuntu bionic/main amd64 libpixman-1-dev amd64 0.34.0-2 [244 kB]\n",
            "Get:3 http://archive.ubuntu.com/ubuntu bionic-updates/main amd64 libxcb-shm0-dev amd64 1.13-2~ubuntu18.04 [6,684 B]\n",
            "Get:4 http://archive.ubuntu.com/ubuntu bionic-updates/main amd64 libcairo2-dev amd64 1.15.10-2ubuntu0.1 [626 kB]\n",
            "Get:5 http://archive.ubuntu.com/ubuntu bionic-updates/main amd64 libgif-dev amd64 5.1.4-2ubuntu0.1 [20.6 kB]\n",
            "Fetched 951 kB in 1s (648 kB/s)\n",
            "Selecting previously unselected package libcairo-script-interpreter2:amd64.\n",
            "(Reading database ... 144865 files and directories currently installed.)\n",
            "Preparing to unpack .../libcairo-script-interpreter2_1.15.10-2ubuntu0.1_amd64.deb ...\n",
            "Unpacking libcairo-script-interpreter2:amd64 (1.15.10-2ubuntu0.1) ...\n",
            "Selecting previously unselected package libpixman-1-dev:amd64.\n",
            "Preparing to unpack .../libpixman-1-dev_0.34.0-2_amd64.deb ...\n",
            "Unpacking libpixman-1-dev:amd64 (0.34.0-2) ...\n",
            "Selecting previously unselected package libxcb-shm0-dev:amd64.\n",
            "Preparing to unpack .../libxcb-shm0-dev_1.13-2~ubuntu18.04_amd64.deb ...\n",
            "Unpacking libxcb-shm0-dev:amd64 (1.13-2~ubuntu18.04) ...\n",
            "Selecting previously unselected package libcairo2-dev:amd64.\n",
            "Preparing to unpack .../libcairo2-dev_1.15.10-2ubuntu0.1_amd64.deb ...\n",
            "Unpacking libcairo2-dev:amd64 (1.15.10-2ubuntu0.1) ...\n",
            "Selecting previously unselected package libgif-dev.\n",
            "Preparing to unpack .../libgif-dev_5.1.4-2ubuntu0.1_amd64.deb ...\n",
            "Unpacking libgif-dev (5.1.4-2ubuntu0.1) ...\n",
            "Setting up libcairo-script-interpreter2:amd64 (1.15.10-2ubuntu0.1) ...\n",
            "Setting up libgif-dev (5.1.4-2ubuntu0.1) ...\n",
            "Setting up libxcb-shm0-dev:amd64 (1.13-2~ubuntu18.04) ...\n",
            "Setting up libpixman-1-dev:amd64 (0.34.0-2) ...\n",
            "Setting up libcairo2-dev:amd64 (1.15.10-2ubuntu0.1) ...\n",
            "Processing triggers for libc-bin (2.27-3ubuntu1.2) ...\n",
            "/sbin/ldconfig.real: /usr/local/lib/python3.6/dist-packages/ideep4py/lib/libmkldnn.so.0 is not a symbolic link\n",
            "\n",
            "Collecting pycairo\n",
            "\u001b[?25l  Downloading https://files.pythonhosted.org/packages/9d/6e/499d6a6db416eb3cdf0e57762a269908e4ab6638a75a90972afc34885b91/pycairo-1.20.0.tar.gz (344kB)\n",
            "\u001b[K     |████████████████████████████████| 348kB 7.4MB/s \n",
            "\u001b[?25h  Installing build dependencies ... \u001b[?25l\u001b[?25hdone\n",
            "  Getting requirements to build wheel ... \u001b[?25l\u001b[?25hdone\n",
            "    Preparing wheel metadata ... \u001b[?25l\u001b[?25hdone\n",
            "Building wheels for collected packages: pycairo\n",
            "  Building wheel for pycairo (PEP 517) ... \u001b[?25l\u001b[?25hdone\n",
            "  Created wheel for pycairo: filename=pycairo-1.20.0-cp36-cp36m-linux_x86_64.whl size=241729 sha256=09c7d1554f435e03a4841bde9a0b2da7c0837bc3a1fce940a73e6ec63bd7e158\n",
            "  Stored in directory: /root/.cache/pip/wheels/47/b2/fb/4120c78b516405471f705124b229c28aa5afb7158a42567e11\n",
            "Successfully built pycairo\n",
            "Installing collected packages: pycairo\n",
            "Successfully installed pycairo-1.20.0\n",
            "Collecting python-igraph\n",
            "\u001b[?25l  Downloading https://files.pythonhosted.org/packages/20/6e/3ac2fc339051f652d4a01570d133e4d15321aaec929ffb5f49a67852f8d9/python_igraph-0.8.3-cp36-cp36m-manylinux2010_x86_64.whl (3.2MB)\n",
            "\u001b[K     |████████████████████████████████| 3.2MB 9.4MB/s \n",
            "\u001b[?25hCollecting texttable>=1.6.2\n",
            "  Downloading https://files.pythonhosted.org/packages/06/f5/46201c428aebe0eecfa83df66bf3e6caa29659dbac5a56ddfd83cae0d4a4/texttable-1.6.3-py2.py3-none-any.whl\n",
            "Installing collected packages: texttable, python-igraph\n",
            "Successfully installed python-igraph-0.8.3 texttable-1.6.3\n"
          ],
          "name": "stdout"
        }
      ]
    },
    {
      "cell_type": "markdown",
      "metadata": {
        "id": "2NvczA9w1Fdt"
      },
      "source": [
        "### Pandas Configuration"
      ]
    },
    {
      "cell_type": "code",
      "metadata": {
        "id": "iK8aorwii5_n"
      },
      "source": [
        "pd.set_option(\"display.precision\", 3)"
      ],
      "execution_count": null,
      "outputs": []
    },
    {
      "cell_type": "markdown",
      "metadata": {
        "id": "e3xdzTV2jWwK"
      },
      "source": [
        "### Import datasets"
      ]
    },
    {
      "cell_type": "code",
      "metadata": {
        "id": "sph3AwD8Fq56"
      },
      "source": [
        "# upload data from Drive database\n",
        "#path = \"drive/MyDrive/CS446_final/datasets/structural/hb_sifs\"\n",
        "path = \"hb_sifs_reduced\""
      ],
      "execution_count": null,
      "outputs": []
    },
    {
      "cell_type": "code",
      "metadata": {
        "colab": {
          "base_uri": "https://localhost:8080/"
        },
        "id": "kAtKj55Y8LM7",
        "outputId": "f5e6242a-75a4-402e-854d-80e6e36ccaae"
      },
      "source": [
        "#!wget https://github.com/picodase/cs446_final/blob/main/hb_sifs.zip?raw=true -O hb_sifs.zip\n",
        "!wget https://github.com/picodase/cs446_final/blob/main/hb_sifs_reduced.zip?raw=true -O hb_sifs_reduced.zip\n",
        "!unzip hb_sifs_reduced.zip"
      ],
      "execution_count": null,
      "outputs": [
        {
          "output_type": "stream",
          "text": [
            "--2020-12-08 22:10:38--  https://github.com/picodase/cs446_final/blob/main/hb_sifs_reduced.zip?raw=true\n",
            "Resolving github.com (github.com)... 140.82.113.4\n",
            "Connecting to github.com (github.com)|140.82.113.4|:443... connected.\n",
            "HTTP request sent, awaiting response... 302 Found\n",
            "Location: https://github.com/picodase/cs446_final/raw/main/hb_sifs_reduced.zip [following]\n",
            "--2020-12-08 22:10:39--  https://github.com/picodase/cs446_final/raw/main/hb_sifs_reduced.zip\n",
            "Reusing existing connection to github.com:443.\n",
            "HTTP request sent, awaiting response... 302 Found\n",
            "Location: https://raw.githubusercontent.com/picodase/cs446_final/main/hb_sifs_reduced.zip [following]\n",
            "--2020-12-08 22:10:39--  https://raw.githubusercontent.com/picodase/cs446_final/main/hb_sifs_reduced.zip\n",
            "Resolving raw.githubusercontent.com (raw.githubusercontent.com)... 151.101.0.133, 151.101.64.133, 151.101.128.133, ...\n",
            "Connecting to raw.githubusercontent.com (raw.githubusercontent.com)|151.101.0.133|:443... connected.\n",
            "HTTP request sent, awaiting response... 200 OK\n",
            "Length: 138109 (135K) [application/zip]\n",
            "Saving to: ‘hb_sifs_reduced.zip’\n",
            "\n",
            "hb_sifs_reduced.zip 100%[===================>] 134.87K  --.-KB/s    in 0.02s   \n",
            "\n",
            "2020-12-08 22:10:39 (8.34 MB/s) - ‘hb_sifs_reduced.zip’ saved [138109/138109]\n",
            "\n",
            "Archive:  hb_sifs_reduced.zip\n",
            "   creating: hb_sifs_reduced/\n",
            "  inflating: hb_sifs_reduced/4HRR.sif  \n",
            "  inflating: hb_sifs_reduced/2RAO.sif  \n",
            "  inflating: hb_sifs_reduced/1FSX.sif  \n",
            "  inflating: hb_sifs_reduced/3A0G.sif  \n",
            "  inflating: hb_sifs_reduced/1LA6.sif  \n",
            "  inflating: hb_sifs_reduced/1GCV.sif  \n",
            "  inflating: hb_sifs_reduced/1HBH.sif  \n",
            "  inflating: hb_sifs_reduced/3BCQ.sif  \n",
            "  inflating: hb_sifs_reduced/1FHJ.sif  \n",
            "  inflating: hb_sifs_reduced/2QU0.sif  \n",
            "  inflating: hb_sifs_reduced/1V4U.sif  \n",
            "  inflating: hb_sifs_reduced/1HDS.sif  \n",
            "  inflating: hb_sifs_reduced/1SPG.sif  \n",
            "  inflating: hb_sifs_reduced/3A59.sif  \n",
            "  inflating: hb_sifs_reduced/3BJ1.sif  \n",
            "  inflating: hb_sifs_reduced/1HBR.sif  \n",
            "  inflating: hb_sifs_reduced/1CG5.sif  \n",
            "  inflating: hb_sifs_reduced/3AT5.sif  \n",
            "  inflating: hb_sifs_reduced/1G0B.sif  \n",
            "  inflating: hb_sifs_reduced/1FAW.sif  \n",
            "  inflating: hb_sifs_reduced/1OUT.sif  \n"
          ],
          "name": "stdout"
        }
      ]
    },
    {
      "cell_type": "markdown",
      "metadata": {
        "id": "21iERVVxGXf1"
      },
      "source": [
        "Import the data by constructing a RIN from the sif file"
      ]
    },
    {
      "cell_type": "code",
      "metadata": {
        "id": "3nMJW909GdM1"
      },
      "source": [
        "import os\n",
        "\n",
        "rin_dfs = []\n",
        "fileNames = []\n",
        "for file in os.scandir(path):\n",
        "    if (file.path.endswith(\".sif\") and file.is_file()):\n",
        "      #print(file.name.replace(\".sif\",\"\"))\n",
        "      fileNames.append(file.name.split(\".\")[0])\n",
        "      rin_dfs.append(pd.read_csv(file, sep='\\t', names=[\"resA\", \"interacType\",\"resB\"]))"
      ],
      "execution_count": null,
      "outputs": []
    },
    {
      "cell_type": "markdown",
      "metadata": {
        "id": "RgAPU1wejglG"
      },
      "source": [
        "### Define partitioning scheme for each subnetwork type"
      ]
    },
    {
      "cell_type": "code",
      "metadata": {
        "id": "bkXNzRYgdEIf"
      },
      "source": [
        "# partitioning scheme for each network type\n",
        "hbond = {\"HBOND:MC_MC\", \"HBOND:SC_MC\", \"HBOND:MC_SC\", \"HBOND:SC_SC\"}\n",
        "vdw = {\"VDW:SC_SC\", \"VDW:MC_SC\", \"VDW:SC_MC\", \"VDW:LIG_SC\"}\n",
        "lig = {\"IAC:LIG_SC\",\"IAC:LIG_MC\",\"VDW:LIG_SC\"}\n",
        "ππ = {\"PIPISTACK:SC_SC\"}"
      ],
      "execution_count": null,
      "outputs": []
    },
    {
      "cell_type": "markdown",
      "metadata": {
        "id": "mAiekqWdZ7Pk"
      },
      "source": [
        "### Organism name dictionary"
      ]
    },
    {
      "cell_type": "code",
      "metadata": {
        "id": "wmIrEBrSZ6dk"
      },
      "source": [
        "common_names = {\n",
        "    \"3A59\":\"Ostrich\",\n",
        "    \"3A0G\":\"Guinea pig\",\n",
        "    \"1FHJ\":\"Maned wolf\",\n",
        "    \"4HRR\":\"Arcid clam\",\n",
        "    \"3BJ1\":\"met-Perch\",\n",
        "    \"3AT5\":\"Side-necked turtle\",\n",
        "    \"1HBR\":\"Chicken\",\n",
        "    \"1HDS\":\"Sickling deer\",\n",
        "    \"2RAO\":\"Human Factor X\",\n",
        "    \"2QU0\":\"Sheep\",\n",
        "    \"1GCV\":\"Mussel\",\n",
        "    \"1OUT\":\"Trout\",\n",
        "    \"1V4U\":\"Bluefin tuna\",\n",
        "    \"3BCQ\":\"Red-tailed Brycon\",\n",
        "    \"1G0B\":\"Horse\",\n",
        "    \"1FSX\":\"Cow\",\n",
        "    \"1SPG\":\"Teleost fish\",\n",
        "    \"1CG5\":\"Cartilagenous fish\",\n",
        "    \"1HBH\":\"Antarctic fish\",\n",
        "    \"1FAW\":\"Graylag goose\",\n",
        "    \"1LA6\":\"Inshore Antarctic fish\"\n",
        "}"
      ],
      "execution_count": null,
      "outputs": []
    },
    {
      "cell_type": "code",
      "metadata": {
        "id": "3APtobrNbdy8"
      },
      "source": [
        "class_names = {\n",
        "    \"3A59\":\"Bird\",\n",
        "    \"3A0G\":\"Mammal\",\n",
        "    \"1FHJ\":\"Mammal\",\n",
        "    \"4HRR\":\"Crustacean\",\n",
        "    \"3BJ1\":\"Fish\",\n",
        "    \"3AT5\":\"Turtle?\",\n",
        "    \"1HBR\":\"Bird\",\n",
        "    \"1HDS\":\"Mammal\",\n",
        "    \"2RAO\":\"Human\",\n",
        "    \"2QU0\":\"Mammal\",\n",
        "    \"1GCV\":\"Crustacean\",\n",
        "    \"1OUT\":\"Fish\",\n",
        "    \"1V4U\":\"Fish\",\n",
        "    \"3BCQ\":\"Fish\",\n",
        "    \"1G0B\":\"Mammal\",\n",
        "    \"1FSX\":\"Mammal\",\n",
        "    \"1SPG\":\"Fish\",\n",
        "    \"1CG5\":\"Fish\",\n",
        "    \"1HBH\":\"Fish\",\n",
        "    \"1FAW\":\"Bird\",\n",
        "    \"1LA6\":\"Fish\"\n",
        "}"
      ],
      "execution_count": null,
      "outputs": []
    },
    {
      "cell_type": "markdown",
      "metadata": {
        "id": "girwIqaWjpio"
      },
      "source": [
        "### Create edge-list and graph representation, obtain network parameters for each network\n",
        "\n"
      ]
    },
    {
      "cell_type": "markdown",
      "metadata": {
        "id": "ZZFBqGxbeMIk"
      },
      "source": [
        "Subset the network for these types of interactions"
      ]
    },
    {
      "cell_type": "code",
      "metadata": {
        "id": "5wxD-WpkeO6D"
      },
      "source": [
        "# create lists to hold each set of values for the specified interaction types\n",
        "interac_cts = []\n",
        "edgelists = []\n",
        "graphs = []\n",
        "clusters = []\n",
        "cluster_sizes = []\n",
        "diams = []\n",
        "#d_norm = []\n",
        "thr_motifs = []\n",
        "four_motifs = []\n",
        "\n",
        "for df in rin_dfs:\n",
        "  # interaction counts\n",
        "  interac_cts.append(df.interacType.value_counts())\n",
        "\n",
        "  # interaction types\n",
        "  i = {}\n",
        "  i[\"tot\"] = df[['resA','resB']].values.tolist()\n",
        "  i[\"hbd\"] = df[df.interacType.isin(hbond)][['resA','resB']].values.tolist()\n",
        "  i[\"vdw\"] = df[df.interacType.isin(vdw)][['resA','resB']].values.tolist()\n",
        "  i[\"lig\"] = df[df.interacType.isin(lig)][['resA','resB']].values.tolist()\n",
        "  i[\"ππ\"] = df[df.interacType.isin(ππ)][['resA','resB']].values.tolist()\n",
        "  edgelists.append(i)\n",
        "\n",
        "  # graphs\n",
        "  g = {}\n",
        "  g[\"tot\"] = igraph.Graph.TupleList(i[\"tot\"])\n",
        "  g[\"hbd\"] = igraph.Graph.TupleList(i[\"hbd\"], directed=True)\n",
        "  g[\"vdw\"] = igraph.Graph.TupleList(i[\"vdw\"])\n",
        "  g[\"lig\"] = igraph.Graph.TupleList(i[\"lig\"])\n",
        "  g[\"ππ\"] = igraph.Graph.TupleList(i[\"ππ\"])\n",
        "  graphs.append(g)\n",
        "\n",
        "  # clusters\n",
        "  c = {}\n",
        "  c[\"tot\"] = g[\"tot\"].clusters()\n",
        "  c[\"hbd\"] = g[\"hbd\"].clusters()    \n",
        "  c[\"vdw\"] = g[\"vdw\"].clusters()\n",
        "  c[\"lig\"] = g[\"lig\"].clusters()\n",
        "  c[\"ππ\"] = g[\"ππ\"].clusters()\n",
        "  clusters.append(c)\n",
        "\n",
        "  # cluster sizes\n",
        "  c_s = {}\n",
        "  c_s[\"tot\"] = c[\"tot\"].sizes()\n",
        "  c_s[\"hbd\"] = c[\"hbd\"].sizes()\n",
        "  c_s[\"vdw\"] = c[\"vdw\"].sizes()\n",
        "  c_s[\"lig\"] = c[\"lig\"].sizes()\n",
        "  c_s[\"ππ\"] = c[\"ππ\"].sizes()\n",
        "  cluster_sizes.append(c_s)\n",
        "\n",
        "  # diameters\n",
        "  d = {}\n",
        "  d[\"tot\"] = g[\"tot\"].diameter()\n",
        "  d[\"hbd\"] = g[\"hbd\"].diameter()\n",
        "  d[\"vdw\"] = g[\"vdw\"].diameter()\n",
        "  d[\"lig\"] = g[\"lig\"].diameter()\n",
        "  d[\"ππ\"] = g[\"ππ\"].diameter()\n",
        "  diams.append(d)\n",
        "\n",
        "  # diameter normalized to number of vertices in the network\n",
        "  #d_n = {}\n",
        "\n",
        "  #d_n[\"hbd\"] = (d[\"hbd\"]/len(g[\"hbd\"].vs) if (len(g[\"hbd\"].vs) != 0) else np.nan)\n",
        "  #d_n[\"vdW\"] = (d[\"vdw\"]/len(g[\"vdw\"].vs) if (len(g[\"vdw\"].vs) != 0) else np.nan)\n",
        "  #d_n[\"lig\"] = (d[\"lig\"]/len(g[\"lig\"].vs) if (len(g[\"lig\"].vs) != 0) else np.nan)\n",
        "  #d_n[\"ππ\"] = (d[\"ππ\"]/len(g[\"ππ\"].vs) if (len(g[\"ππ\"].vs) != 0) else np.nan)\n",
        "  #d_norm.append(d)\n",
        "\n",
        "  # motifs\n",
        "  # calculate motifs for each graph\n",
        "\n",
        "  # three-motifs\n",
        "  t_m = {}\n",
        "  t_m[\"tot\"] = g[\"tot\"].motifs_randesu()\n",
        "  t_m[\"hbd\"] = g[\"hbd\"].motifs_randesu()\n",
        "  t_m[\"vdw\"] = g[\"vdw\"].motifs_randesu()\n",
        "  t_m[\"lig\"] = g[\"lig\"].motifs_randesu()\n",
        "  t_m[\"ππ\"] = g[\"ππ\"].motifs_randesu()\n",
        "  thr_motifs.append(t_m)\n",
        "\n",
        "  # four-motifs\n",
        "  f_m = {}\n",
        "  f_m[\"tot\"] = g[\"tot\"].motifs_randesu(size=4)\n",
        "  f_m[\"hbd\"] = g[\"hbd\"].motifs_randesu(size=4)\n",
        "  f_m[\"vdw\"] = g[\"vdw\"].motifs_randesu(size=4)\n",
        "  f_m[\"lig\"] = g[\"lig\"].motifs_randesu(size=4)\n",
        "  f_m[\"ππ\"] = g[\"ππ\"].motifs_randesu(size=4)\n",
        "  four_motifs.append(f_m)"
      ],
      "execution_count": null,
      "outputs": []
    },
    {
      "cell_type": "markdown",
      "metadata": {
        "id": "C2GeyLQGTJbA"
      },
      "source": [
        "### Vectors"
      ]
    },
    {
      "cell_type": "markdown",
      "metadata": {
        "id": "p_gaUygW3nxu"
      },
      "source": [
        "For a proof-of-concept, take two hemoglobin proteins (say, the first and second graphs in the set), make their interaction counts into numpy arrays, then compute their cosine similarity. NO NORMALIZATION IS NEEDED because cosine is independent of magnitude!"
      ]
    },
    {
      "cell_type": "markdown",
      "metadata": {
        "id": "OrgDpl6T55ke"
      },
      "source": [
        "#### Interaction counts"
      ]
    },
    {
      "cell_type": "code",
      "metadata": {
        "id": "g8IQ4QGC4Gfv"
      },
      "source": [
        "ic1 = np.array(interac_cts[0])\n",
        "ic2 = np.array(interac_cts[1])"
      ],
      "execution_count": null,
      "outputs": []
    },
    {
      "cell_type": "code",
      "metadata": {
        "colab": {
          "base_uri": "https://localhost:8080/",
          "height": 340
        },
        "id": "PexTP4ge4Pc5",
        "outputId": "1b939e61-82f1-45a9-d999-5f7765b441fb"
      },
      "source": [
        "import numpy as np\n",
        "from sklearn.metrics.pairwise import cosine_similarity\n",
        "# Getting an error because 1UC3 doesn't contain any values\n",
        "ic1 = ic1.reshape(1,-1)\n",
        "ic2 = ic2.reshape(1,-1)\n",
        "\n",
        "cosine_similarity(ic1,ic2)"
      ],
      "execution_count": null,
      "outputs": [
        {
          "output_type": "error",
          "ename": "ValueError",
          "evalue": "ignored",
          "traceback": [
            "\u001b[0;31m---------------------------------------------------------------------------\u001b[0m",
            "\u001b[0;31mValueError\u001b[0m                                Traceback (most recent call last)",
            "\u001b[0;32m<ipython-input-11-464e4dad9f95>\u001b[0m in \u001b[0;36m<module>\u001b[0;34m()\u001b[0m\n\u001b[1;32m      5\u001b[0m \u001b[0mic2\u001b[0m \u001b[0;34m=\u001b[0m \u001b[0mic2\u001b[0m\u001b[0;34m.\u001b[0m\u001b[0mreshape\u001b[0m\u001b[0;34m(\u001b[0m\u001b[0;36m1\u001b[0m\u001b[0;34m,\u001b[0m\u001b[0;34m-\u001b[0m\u001b[0;36m1\u001b[0m\u001b[0;34m)\u001b[0m\u001b[0;34m\u001b[0m\u001b[0;34m\u001b[0m\u001b[0m\n\u001b[1;32m      6\u001b[0m \u001b[0;34m\u001b[0m\u001b[0m\n\u001b[0;32m----> 7\u001b[0;31m \u001b[0mcosine_similarity\u001b[0m\u001b[0;34m(\u001b[0m\u001b[0mic1\u001b[0m\u001b[0;34m,\u001b[0m\u001b[0mic2\u001b[0m\u001b[0;34m)\u001b[0m\u001b[0;34m\u001b[0m\u001b[0;34m\u001b[0m\u001b[0m\n\u001b[0m",
            "\u001b[0;32m/usr/local/lib/python3.6/dist-packages/sklearn/metrics/pairwise.py\u001b[0m in \u001b[0;36mcosine_similarity\u001b[0;34m(X, Y, dense_output)\u001b[0m\n\u001b[1;32m   1165\u001b[0m     \u001b[0;31m# to avoid recursive import\u001b[0m\u001b[0;34m\u001b[0m\u001b[0;34m\u001b[0m\u001b[0;34m\u001b[0m\u001b[0m\n\u001b[1;32m   1166\u001b[0m \u001b[0;34m\u001b[0m\u001b[0m\n\u001b[0;32m-> 1167\u001b[0;31m     \u001b[0mX\u001b[0m\u001b[0;34m,\u001b[0m \u001b[0mY\u001b[0m \u001b[0;34m=\u001b[0m \u001b[0mcheck_pairwise_arrays\u001b[0m\u001b[0;34m(\u001b[0m\u001b[0mX\u001b[0m\u001b[0;34m,\u001b[0m \u001b[0mY\u001b[0m\u001b[0;34m)\u001b[0m\u001b[0;34m\u001b[0m\u001b[0;34m\u001b[0m\u001b[0m\n\u001b[0m\u001b[1;32m   1168\u001b[0m \u001b[0;34m\u001b[0m\u001b[0m\n\u001b[1;32m   1169\u001b[0m     \u001b[0mX_normalized\u001b[0m \u001b[0;34m=\u001b[0m \u001b[0mnormalize\u001b[0m\u001b[0;34m(\u001b[0m\u001b[0mX\u001b[0m\u001b[0;34m,\u001b[0m \u001b[0mcopy\u001b[0m\u001b[0;34m=\u001b[0m\u001b[0;32mTrue\u001b[0m\u001b[0;34m)\u001b[0m\u001b[0;34m\u001b[0m\u001b[0;34m\u001b[0m\u001b[0m\n",
            "\u001b[0;32m/usr/local/lib/python3.6/dist-packages/sklearn/metrics/pairwise.py\u001b[0m in \u001b[0;36mcheck_pairwise_arrays\u001b[0;34m(X, Y, precomputed, dtype, accept_sparse, force_all_finite, copy)\u001b[0m\n\u001b[1;32m    153\u001b[0m         raise ValueError(\"Incompatible dimension for X and Y matrices: \"\n\u001b[1;32m    154\u001b[0m                          \"X.shape[1] == %d while Y.shape[1] == %d\" % (\n\u001b[0;32m--> 155\u001b[0;31m                              X.shape[1], Y.shape[1]))\n\u001b[0m\u001b[1;32m    156\u001b[0m \u001b[0;34m\u001b[0m\u001b[0m\n\u001b[1;32m    157\u001b[0m     \u001b[0;32mreturn\u001b[0m \u001b[0mX\u001b[0m\u001b[0;34m,\u001b[0m \u001b[0mY\u001b[0m\u001b[0;34m\u001b[0m\u001b[0;34m\u001b[0m\u001b[0m\n",
            "\u001b[0;31mValueError\u001b[0m: Incompatible dimension for X and Y matrices: X.shape[1] == 11 while Y.shape[1] == 12"
          ]
        }
      ]
    },
    {
      "cell_type": "markdown",
      "metadata": {
        "id": "GcTo_DBC5-Ko"
      },
      "source": [
        "#### Three-motif counts"
      ]
    },
    {
      "cell_type": "code",
      "metadata": {
        "id": "zaEEq52I42KB"
      },
      "source": [
        "mt1 = np.array(thr_motifs[0][\"hbd\"])\n",
        "mt2 = np.array(thr_motifs[1][\"hbd\"])\n",
        "\n",
        "mt1[np.isnan(mt1)] = 0\n",
        "mt2[np.isnan(mt2)] = 0"
      ],
      "execution_count": null,
      "outputs": []
    },
    {
      "cell_type": "code",
      "metadata": {
        "id": "9iVOhN_y5OfV"
      },
      "source": [
        "mt1 = mt1.reshape(1,-1)\n",
        "mt2 = mt2.reshape(1,-1)\n",
        "\n",
        "cosine_similarity(mt1,mt2)"
      ],
      "execution_count": null,
      "outputs": []
    },
    {
      "cell_type": "code",
      "metadata": {
        "id": "3cBWK5Nu695-"
      },
      "source": [
        "\n",
        "# create a DF to contain all of these data, concatenating each network measure as a new column\n",
        "\n",
        "def tmCosSim(n1, n2):\n",
        "  nets = {\"hbd\",\"vdw\",\"lig\",\"ππ\"}\n",
        "  summary = []\n",
        "\n",
        "  for net in nets:\n",
        "  \n",
        "    n1 = thr_motifs[0][net]\n",
        "    n2 = thr_motifs[3][net]\n",
        "\n",
        "    n1 = np.array(n1)\n",
        "    n2 = np.array(n2)\n",
        "\n",
        "    n1[np.isnan(n1)] = 0\n",
        "    n2[np.isnan(n2)] = 0\n",
        "\n",
        "    n1 = n1.reshape(1,-1)\n",
        "    n2 = n2.reshape(1,-1)\n",
        "\n",
        "    summary.append(cosine_similarity(n1,n2)[0][0])\n",
        "\n",
        "  return summary\n",
        "\n",
        "  print(tmCosSim(n1,n2))"
      ],
      "execution_count": null,
      "outputs": []
    },
    {
      "cell_type": "code",
      "metadata": {
        "id": "dnPW7iCiT3xh"
      },
      "source": [
        "# calculate triple-motif cosine similarity between two graphs\n",
        "def tmCosSim(g1:igraph.Graph, g2:igraph.Graph):\n",
        "  n1 = np.array(g1.motifs_randesu(3)).reshape(1,-1)\n",
        "  n2 = np.array(g2.motifs_randesu(3)).reshape(1,-1)\n",
        "\n",
        "  n1[np.isnan(n1)] = 0\n",
        "  n2[np.isnan(n2)] = 0\n",
        "\n",
        "  return cosine_similarity(n1,n2)\n",
        "\n",
        "#print(tmCosSim(graphs[0][\"tot\"],graphs[3][\"tot\"]))\n",
        "print(tmCosSim(graphs[0][\"hbd\"],graphs[3][\"hbd\"]))\n",
        "print(tmCosSim(graphs[0][\"vdw\"],graphs[3][\"vdw\"]))\n",
        "print(tmCosSim(graphs[0][\"lig\"],graphs[3][\"lig\"]))\n",
        "print(tmCosSim(graphs[0][\"ππ\"],graphs[3][\"ππ\"]))"
      ],
      "execution_count": null,
      "outputs": []
    },
    {
      "cell_type": "code",
      "metadata": {
        "id": "2U8lIV4wWkKJ"
      },
      "source": [
        "# calculate quadruple-motif cosine similarity between two graphs\n",
        "def qmCosSim(g1:igraph.Graph, g2:igraph.Graph):\n",
        "  n1 = np.array(g1.motifs_randesu(4)).reshape(1,-1)\n",
        "  n2 = np.array(g2.motifs_randesu(4)).reshape(1,-1)\n",
        "\n",
        "  n1[np.isnan(n1)] = 0\n",
        "  n2[np.isnan(n2)] = 0\n",
        "\n",
        "  return cosine_similarity(n1,n2)\n",
        "\n",
        "#print(qmCosSim(graphs[0][\"tot\"],graphs[3][\"tot\"]))\n",
        "print(qmCosSim(graphs[0][\"hbd\"],graphs[3][\"hbd\"]))\n",
        "print(qmCosSim(graphs[0][\"vdw\"],graphs[3][\"vdw\"]))\n",
        "print(qmCosSim(graphs[0][\"lig\"],graphs[3][\"lig\"]))\n",
        "print(qmCosSim(graphs[0][\"ππ\"],graphs[3][\"ππ\"]))"
      ],
      "execution_count": null,
      "outputs": []
    },
    {
      "cell_type": "code",
      "metadata": {
        "id": "eOIPGr7dWy8-"
      },
      "source": [
        "# calculate interaction counts cosine similarity between two graphs\n",
        "def icCosSim(df1:pd.DataFrame, df2:pd.DataFrame):\n",
        "  n1 = np.array(df1.interacType.value_counts()).reshape(1,-1)\n",
        "  n2 = np.array(df2.interacType.value_counts()).reshape(1,-1)\n",
        "\n",
        "  n1[np.isnan(n1)] = 0\n",
        "  n2[np.isnan(n2)] = 0\n",
        "\n",
        "  return cosine_similarity(n1,n2)\n",
        "\n",
        "print(icCosSim(rin_dfs[0],rin_dfs[1]))"
      ],
      "execution_count": null,
      "outputs": []
    },
    {
      "cell_type": "markdown",
      "metadata": {
        "id": "uGZzT8x5qQsY"
      },
      "source": [
        "## **Cosine Correlation Matrices**"
      ]
    },
    {
      "cell_type": "markdown",
      "metadata": {
        "id": "Df_MjgPXqhKS"
      },
      "source": [
        "### Interaction Counts"
      ]
    },
    {
      "cell_type": "code",
      "metadata": {
        "id": "bzx7M0SlWi7S"
      },
      "source": [
        "#Cosine Correlation Matrix for interac_cts\n",
        "rin_interact_data = pd.DataFrame(interac_cts, index=fileNames).T\n",
        "\n",
        "def dfCosSim(n1: np.ndarray, n2: np.ndarray):\n",
        "  return cosine_similarity(n1.reshape(1,-1), n2.reshape(1,-1))\n",
        "\n",
        "rn_interact_cts_corr = rin_interact_data.corr(dfCosSim)\n",
        "rn_interact_cts_corr.style.background_gradient(cmap='coolwarm')"
      ],
      "execution_count": null,
      "outputs": []
    },
    {
      "cell_type": "markdown",
      "metadata": {
        "id": "B6239JqQqmo6"
      },
      "source": [
        "### Three Motif"
      ]
    },
    {
      "cell_type": "code",
      "metadata": {
        "id": "XVIXo6bWjxZD"
      },
      "source": [
        "#Cosine Correlation Matrices for 3 motif\n",
        "\n",
        "thr_motif_tot = [d['tot'] for d in thr_motifs]\n",
        "thr_motif_hbd = [d['hbd'] for d in thr_motifs]\n",
        "thr_motif_vdw = [d['vdw'] for d in thr_motifs]\n",
        "thr_motif_lig = [d['lig'] for d in thr_motifs]\n",
        "thr_motif_pipi = [d['ππ'] for d in thr_motifs]\n",
        "\n",
        "rn_thrmotif_tot_data = pd.DataFrame(thr_motif_tot, index=fileNames).T\n",
        "rn_thrmotif_hbd_data = pd.DataFrame(thr_motif_hbd, index=fileNames).T\n",
        "rn_thrmotif_vdw_data = pd.DataFrame(thr_motif_vdw, index=fileNames).T\n",
        "rn_thrmotif_lig_data = pd.DataFrame(thr_motif_lig, index=fileNames).T\n",
        "rn_thrmotif_pipi_data = pd.DataFrame(thr_motif_pipi, index=fileNames).T\n",
        "\n",
        "rn_thrmotif_tot_corr = rn_thrmotif_tot_data.corr(dfCosSim)\n",
        "rn_thrmotif_hbd_corr = rn_thrmotif_hbd_data.corr(dfCosSim)\n",
        "rn_thrmotif_vdw_corr = rn_thrmotif_vdw_data.corr(dfCosSim)\n",
        "rn_thrmotif_lig_corr = rn_thrmotif_lig_data.corr(dfCosSim)\n",
        "rn_thrmotif_pipi_corr = rn_thrmotif_pipi_data.corr(dfCosSim)"
      ],
      "execution_count": null,
      "outputs": []
    },
    {
      "cell_type": "code",
      "metadata": {
        "id": "VEdZHPKCtCC6"
      },
      "source": [
        "#Setting axis = None fixes the color value issue\n",
        "rn_thrmotif_tot_corr.style.background_gradient(cmap='coolwarm',axis=None)"
      ],
      "execution_count": null,
      "outputs": []
    },
    {
      "cell_type": "code",
      "metadata": {
        "id": "mPeChYrClrdd"
      },
      "source": [
        "#Setting axis = None fixes the color value issue\n",
        "rn_thrmotif_hbd_corr.style.background_gradient(cmap='coolwarm',axis=None)"
      ],
      "execution_count": null,
      "outputs": []
    },
    {
      "cell_type": "code",
      "metadata": {
        "id": "qQxgXUy4ptpm"
      },
      "source": [
        "rn_thrmotif_vdw_corr.style.background_gradient(cmap='coolwarm',axis=None)"
      ],
      "execution_count": null,
      "outputs": []
    },
    {
      "cell_type": "code",
      "metadata": {
        "id": "wjF2Fbn1py06"
      },
      "source": [
        "rn_thrmotif_lig_corr.style.background_gradient(cmap='coolwarm', axis = None)"
      ],
      "execution_count": null,
      "outputs": []
    },
    {
      "cell_type": "code",
      "metadata": {
        "id": "WRfuxryAp08P"
      },
      "source": [
        "rn_thrmotif_pipi_corr.style.background_gradient(cmap='coolwarm',axis=None)"
      ],
      "execution_count": null,
      "outputs": []
    },
    {
      "cell_type": "markdown",
      "metadata": {
        "id": "cU5xHz87A3GZ"
      },
      "source": [
        "### Four-motif"
      ]
    },
    {
      "cell_type": "code",
      "metadata": {
        "id": "20tnwTE2BPtL"
      },
      "source": [
        "#Cosine Correlation Matrices for 3 motif\n",
        "four_motif_hbd = [d['hbd'] for d in four_motifs]\n",
        "four_motif_vdw = [d['vdw'] for d in four_motifs]\n",
        "four_motif_lig = [d['lig'] for d in four_motifs]\n",
        "four_motif_pipi = [d['ππ'] for d in four_motifs]\n",
        "\n",
        "rn_fourmotif_hbd_data = pd.DataFrame(four_motif_hbd, index=fileNames).T\n",
        "rn_fourmotif_vdw_data = pd.DataFrame(four_motif_vdw, index=fileNames).T\n",
        "rn_fourmotif_lig_data = pd.DataFrame(four_motif_lig, index=fileNames).T\n",
        "rn_fourmotif_pipi_data = pd.DataFrame(four_motif_pipi, index=fileNames).T\n",
        "\n",
        "rn_fourmotif_hbd_corr = rn_fourmotif_hbd_data.corr(dfCosSim)\n",
        "rn_fourmotif_vdw_corr = rn_fourmotif_vdw_data.corr(dfCosSim)\n",
        "rn_fourmotif_lig_corr = rn_fourmotif_lig_data.corr(dfCosSim)\n",
        "rn_fourmotif_pipi_corr = rn_fourmotif_pipi_data.corr(dfCosSim)"
      ],
      "execution_count": null,
      "outputs": []
    },
    {
      "cell_type": "code",
      "metadata": {
        "id": "9x3ICblLBPtM"
      },
      "source": [
        "rn_fourmotif_hbd_corr.style.background_gradient(cmap='coolwarm',axis=None)"
      ],
      "execution_count": null,
      "outputs": []
    },
    {
      "cell_type": "code",
      "metadata": {
        "id": "6rreGoaiBPtN"
      },
      "source": [
        "rn_fourmotif_vdw_corr.style.background_gradient(cmap='coolwarm',axis=None)"
      ],
      "execution_count": null,
      "outputs": []
    },
    {
      "cell_type": "code",
      "metadata": {
        "id": "f-Mkpp3-BPtN"
      },
      "source": [
        "rn_fourmotif_lig_corr.style.background_gradient(cmap='coolwarm',axis=None)"
      ],
      "execution_count": null,
      "outputs": []
    },
    {
      "cell_type": "code",
      "metadata": {
        "id": "yr5MuKdNBPtN"
      },
      "source": [
        "rn_fourmotif_pipi_corr.style.background_gradient(cmap='coolwarm',axis=None)"
      ],
      "execution_count": null,
      "outputs": []
    },
    {
      "cell_type": "markdown",
      "metadata": {
        "id": "DZsrhn2j2j3V"
      },
      "source": [
        "## **Hypothesis Testing**"
      ]
    },
    {
      "cell_type": "code",
      "metadata": {
        "id": "A0NxXJ0M1hIZ"
      },
      "source": [
        "rn_thrmotif_pipi_corr.rename(columns=common_names, index=common_names).style.background_gradient(cmap='coolwarm',axis=None)"
      ],
      "execution_count": null,
      "outputs": []
    },
    {
      "cell_type": "code",
      "metadata": {
        "id": "qI6cjt6C4AYt"
      },
      "source": [
        "f = plt.figure(figsize=(12, 10))\n",
        "plt.matshow(rn_fourmotif_hbd_corr, fignum=f.number)\n",
        "plt.xticks(range(rn_fourmotif_pipi_corr.shape[1]), rn_fourmotif_pipi_corr.columns, fontsize=12, rotation=45)\n",
        "plt.yticks(range(rn_fourmotif_pipi_corr.shape[1]), rn_fourmotif_pipi_corr.columns, fontsize=12)\n",
        "cb = plt.colorbar()\n",
        "plt.title('Four-Motif HBD Correlation Matrix', fontsize=16, pad=20);"
      ],
      "execution_count": null,
      "outputs": []
    },
    {
      "cell_type": "code",
      "metadata": {
        "id": "BCJt11Se6nD2"
      },
      "source": [
        "f = plt.figure(figsize=(12, 10))\n",
        "plt.matshow(rn_thrmotif_hbd_corr, fignum=f.number)\n",
        "plt.xticks(range(rn_thrmotif_hbd_corr.shape[1]), rn_thrmotif_hbd_corr.columns, fontsize=12, rotation=45)\n",
        "plt.yticks(range(rn_thrmotif_hbd_corr.shape[1]), rn_thrmotif_hbd_corr.columns, fontsize=12)\n",
        "cb = plt.colorbar()\n",
        "plt.title('Three Motif HBD Correlation Matrix', fontsize=16, pad=20);"
      ],
      "execution_count": null,
      "outputs": []
    },
    {
      "cell_type": "code",
      "metadata": {
        "id": "Syil8PMP7vji"
      },
      "source": [
        "total_corr = (rn_interact_cts_corr + rn_thrmotif_hbd_corr + rn_thrmotif_lig_corr + rn_thrmotif_vdw_corr + rn_thrmotif_pipi_corr + rn_fourmotif_hbd_corr + rn_fourmotif_lig_corr + rn_fourmotif_pipi_corr + rn_fourmotif_vdw_corr) / 9\n",
        "renamed_total_corr = total_corr.rename(columns=common_names, index=common_names)\n",
        "#renamed_total_corr = pd.Categorical(df, categories=class_names)\n",
        "renamed_total_corr.style.background_gradient(cmap='coolwarm',axis=None)"
      ],
      "execution_count": null,
      "outputs": []
    },
    {
      "cell_type": "code",
      "metadata": {
        "id": "pnTXSb3kjbIw"
      },
      "source": [
        "# sort renamed_total_corr by correlation value to some column, pick \"Horse\"\n",
        "dfn = renamed_total_corr.sort_values('Horse', ascending=False, axis=1).sort_values('Horse', ascending=False, axis=0)"
      ],
      "execution_count": null,
      "outputs": []
    },
    {
      "cell_type": "code",
      "metadata": {
        "id": "L2HoCM93meeK"
      },
      "source": [
        "f = plt.figure(figsize=(12, 12))\n",
        "n_dfn = dfn\n",
        "plt.matshow(dfn, fignum=f.number)\n",
        "plt.xticks(range(dfn.shape[1]), dfn.columns, fontsize=8, rotation=45)\n",
        "plt.yticks(range(dfn.shape[1]), dfn.columns, fontsize=16)\n",
        "cb = plt.colorbar()\n",
        "plt.title('All-feature Correlation Matrix', fontsize=16, pad=50);"
      ],
      "execution_count": null,
      "outputs": []
    },
    {
      "cell_type": "code",
      "metadata": {
        "id": "M7pRDgayCmh2"
      },
      "source": [
        "f = plt.figure(figsize=(12, 12))\n",
        "n_renamed_total_corr = renamed_total_corr\n",
        "plt.matshow(n_renamed_total_corr, fignum=f.number)\n",
        "plt.xticks(range(n_renamed_total_corr.shape[1]), n_renamed_total_corr.columns, fontsize=8, rotation=45)\n",
        "plt.yticks(range(n_renamed_total_corr.shape[1]), n_renamed_total_corr.columns, fontsize=16)\n",
        "cb = plt.colorbar()\n",
        "plt.title('All-feature Correlation Matrix', fontsize=8, pad=50);"
      ],
      "execution_count": null,
      "outputs": []
    },
    {
      "cell_type": "code",
      "metadata": {
        "id": "wPY8EeHJ1wvv"
      },
      "source": [
        "#2 Sample T-Test\n",
        "from scipy import stats\n",
        "\n",
        "#Prints outcoems of manually caluclated difference in means & Welche's 2 Sample T-Test\n",
        "def ttester(tdf):\n",
        "    #Subset dataframes into their respective classes and compare all-feature correlation values (Can move into individual values if we wanted)\n",
        "    tdf = tdf.rename(columns=class_names,index = class_names)\n",
        "    cnms = [\"Mammal\",\"Fish\",\"Bird\",\"Crustacean\",\"Human\",\"Turtle?\"]\n",
        "\n",
        "    tdf = tdf.replace(1,np.NaN)\n",
        "\n",
        "    interactions = {}\n",
        "    ttests = {}\n",
        "\n",
        "    #Check similarity differences between similar species vs. evolutionarily distant species\n",
        "\n",
        "    for bspec in cnms:\n",
        "\n",
        "      if bspec == \"Human\":\n",
        "        break\n",
        "      #Mean of Same Species interactions\n",
        "      sm = tdf.loc[[bspec],[bspec]].mean().mean(axis=0)\n",
        "      #Calculate Standard Deviation - Subract mean from each value, square the result, mean of the results, sqrt that\n",
        "      ssd = np.sqrt(((tdf.loc[[bspec],[bspec]] - sm) ** 2).mean().mean(axis=0))\n",
        "      # COULD ALSO USE np.nanstd(tdf.loc[[\"Mammal\"],[\"Mammal\"]].values.tolist())\n",
        "\n",
        "      #For comparitive species\n",
        "      for compsp in cnms:\n",
        "        #Mean & STD of differenct species interaction\n",
        "        dm = tdf.loc[[bspec],[compsp]].mean().mean(axis=0)\n",
        "        dsd = np.sqrt(((tdf.loc[[bspec],[compsp]] - dm) ** 2).mean().mean(axis=0))\n",
        "\n",
        "        #upper and lower bounds of means and stds\n",
        "        ub = (sm+ssd) - (dm-dsd)\n",
        "        lb = (sm-ssd) - (dm+dsd)\n",
        "\n",
        "        #Key for run\n",
        "        dk = bspec + \" - \" + compsp\n",
        "\n",
        "        #Limits for differences in means\n",
        "\n",
        "        if ub >= 0 and lb <= 0:\n",
        "          interactions[dk] = 0\n",
        "        else:\n",
        "          interactions[dk] = 1\n",
        "\n",
        "        #Check if Welches T-Test Agrees?\n",
        "        a = tdf.loc[[bspec],[bspec]].values.tolist()\n",
        "        b = tdf.loc[[bspec],[compsp]].values.tolist()\n",
        "        a = [i for sub in a for i in sub]\n",
        "        b = [j for sub in b for j in sub] \n",
        "\n",
        "        #compare means of similarities between similar species in a class vs similarities in species of another class\n",
        "        ttests[dk] = stats.ttest_ind(a,b,equal_var = False,nan_policy = 'omit').pvalue\n",
        "\n",
        "\n",
        "    return(interactions,ttests)"
      ],
      "execution_count": null,
      "outputs": []
    },
    {
      "cell_type": "code",
      "metadata": {
        "id": "86IRDkugdEc-"
      },
      "source": [
        "#Check to see which interactions fail the t-test (You can also print out if the manual calculations - r1 - to determine that the difference can be zero)\n",
        "\n",
        "r1,t1 = ttester(total_corr)\n",
        "r2,t2 = ttester(rn_fourmotif_pipi_corr)\n",
        "r4,t4 = ttester(rn_thrmotif_pipi_corr)\n",
        "r3,t3 = ttester(rn_thrmotif_hbd_corr)\n",
        "\n",
        "\n",
        "α = 0.05  # significance level\n",
        "\n",
        "for k,v in t1.items():\n",
        "  if v <= α:\n",
        "    print(k,v)\n",
        "\n",
        "print(\"--------\")\n",
        "\n",
        "for k,v in t2.items():\n",
        "  if v <= α:\n",
        "    print(k,v)\n",
        "\n",
        "print(\"-----------\")\n",
        "\n",
        "for k,v in t3.items():\n",
        "  if v <= α:\n",
        "    print(k,v)\n",
        "\n",
        "\n",
        "print(\"----------------\")\n",
        "for k,v in t4.items():\n",
        "  if v <= α:\n",
        "    print(k,v)"
      ],
      "execution_count": null,
      "outputs": []
    },
    {
      "cell_type": "markdown",
      "metadata": {
        "id": "_Cj5GGkECp-V"
      },
      "source": [
        "## TO DO:\n",
        "- Implement similarity matrices for overall network\n",
        "  - Interaction counts\n",
        "  - 3-motifs\n",
        "  - 4-motifs\n",
        "- Finish presentation\n",
        "- Practice presentation (< 9mins)\n"
      ]
    }
  ]
}